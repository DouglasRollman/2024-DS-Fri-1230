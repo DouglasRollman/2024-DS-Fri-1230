{
 "cells": [
  {
   "cell_type": "markdown",
   "metadata": {},
   "source": [
    "# First print your name in the cell below then save this file. (or something nice about your instructor)"
   ]
  },
  {
   "cell_type": "code",
   "execution_count": null,
   "metadata": {},
   "outputs": [
    {
     "name": "stdout",
     "output_type": "stream",
     "text": [
      "Douglas Rollman\n",
      "Georgios is very helpful and patient.\n"
     ]
    }
   ],
   "source": [
    "# In this cell print your name \n",
    "print(\"Douglas Rollman\")\n",
    "\n",
    "#print something nice about instructor/TA\n",
    "print(\"Georgios is very helpful and patient.\")"
   ]
  },
  {
   "cell_type": "markdown",
   "metadata": {},
   "source": [
    "# Data wrangling with Pandas exercise\n",
    "* For this exercise we will be using the `listings.csv` data file."
   ]
  },
  {
   "cell_type": "code",
   "execution_count": null,
   "metadata": {},
   "outputs": [],
   "source": [
    "import pandas as pd\n",
    "import numpy as np"
   ]
  },
  {
   "cell_type": "markdown",
   "metadata": {},
   "source": [
    "# Load in the data file using `pd.read_csv()`"
   ]
  },
  {
   "cell_type": "code",
   "execution_count": null,
   "metadata": {},
   "outputs": [],
   "source": [
    "# Load data here\n",
    "df = pd.read_csv(\"data/listings.csv\")"
   ]
  },
  {
   "cell_type": "markdown",
   "metadata": {},
   "source": [
    "## Exercise 2 - Filtering\n",
    "\n",
    "Return the following subsets of the dataframe.\n",
    "\n",
    "1. How many listings are there with a price less than 100? \n",
    "\n",
    "\n",
    "2. Find how many listings there are in just Brooklyn.\n",
    "\n",
    "\n",
    "3. Find how many listings there are in Brooklyn with a price less than 100.\n",
    "\n",
    "\n",
    "4. Using `.isin()` select anyone that has the host name of Michael, David, John, and Daniel.\n",
    "\n",
    "\n",
    "5. Create a new column called `adjusted_price` that has $100 added to every listing in Williamsburg.  The prices for all other listings should be the same as the were before. \n",
    "\n",
    "\n",
    "6. What % of the rooms are private, and what % of the rooms are shared.  \n",
    "    * Hint, use `.value_counts()`\n"
   ]
  },
  {
   "cell_type": "markdown",
   "metadata": {},
   "source": [
    "### 1. How many listings are there with a price less than 100? "
   ]
  },
  {
   "cell_type": "code",
   "execution_count": null,
   "metadata": {},
   "outputs": [
    {
     "name": "stdout",
     "output_type": "stream",
     "text": [
      "There are 22778 listings with a price less than 100.\n"
     ]
    }
   ],
   "source": [
    "\n",
    "price = df[df['price'] < 100]\n",
    "price.shape\n",
    "\n",
    "print(\"There are\", price.shape[0], \"listings with a price less than 100.\")"
   ]
  },
  {
   "cell_type": "code",
   "execution_count": null,
   "metadata": {},
   "outputs": [
    {
     "name": "stdout",
     "output_type": "stream",
     "text": [
      "There are 18632 listings in Brooklyn.\n"
     ]
    }
   ],
   "source": [
    "# 2. Make a new DataFrame of listings in Brooklyn named `df_bk` \n",
    "# and find how many listings in just Brooklyn.\n",
    "brooklyn = df[df[\"neighbourhood_group\"] == \"Brooklyn\"]\n",
    "brooklyn[\"neighbourhood_group\"].value_counts()\n",
    "\n",
    "print(\"There are\", brooklyn.shape[0], \"listings in Brooklyn.\")\n"
   ]
  },
  {
   "cell_type": "code",
   "execution_count": null,
   "metadata": {},
   "outputs": [
    {
     "name": "stdout",
     "output_type": "stream",
     "text": [
      "There are 10473 listings in Brooklyn with a price less than 100.\n"
     ]
    }
   ],
   "source": [
    "# 3. Find how many listings there are in Brooklyn with a price less than 100.\n",
    "\n",
    "brooklyn_cheap = brooklyn[brooklyn['price'] < 100]\n",
    "brooklyn_cheap['price'].max()\n",
    "brooklyn_cheap[\"neighbourhood_group\"].value_counts()\n",
    "brooklyn_cheap.shape[0]\n",
    "\n",
    "print(\"There are\", brooklyn_cheap.shape[0], \"listings in Brooklyn with a price less than 100.\")"
   ]
  },
  {
   "cell_type": "code",
   "execution_count": null,
   "metadata": {},
   "outputs": [
    {
     "name": "stdout",
     "output_type": "stream",
     "text": [
      "There are 1258 listings with the names Michael, David, John, or Daniel.\n"
     ]
    }
   ],
   "source": [
    "# 4. Using `.isin()` select anyone that has the host name of Michael, David, John, and Daniel.\n",
    "# How many total are there that have those names\n",
    "names = ['Michael', 'David', 'John', 'Daniel']\n",
    "\n",
    "biblenames = df[df['host_name'].isin(names)]\n",
    "print(\"There are\", biblenames.shape[0], \"listings with the names Michael, David, John, or Daniel.\")\n"
   ]
  },
  {
   "cell_type": "code",
   "execution_count": null,
   "metadata": {},
   "outputs": [
    {
     "name": "stdout",
     "output_type": "stream",
     "text": [
      "The average price in Williamsburg is 132.44979919678715\n",
      "The average adjusted price in Williamsburg is 232.44979919678715\n"
     ]
    },
    {
     "name": "stderr",
     "output_type": "stream",
     "text": [
      "C:\\Users\\dougl\\AppData\\Local\\Temp\\ipykernel_21580\\3727097887.py:6: FutureWarning: A value is trying to be set on a copy of a DataFrame or Series through chained assignment using an inplace method.\n",
      "The behavior will change in pandas 3.0. This inplace method will never work because the intermediate object on which we are setting values always behaves as a copy.\n",
      "\n",
      "For example, when doing 'df[col].method(value, inplace=True)', try using 'df.method({col: value}, inplace=True)' or df[col] = df[col].method(value) instead, to perform the operation inplace on the original object.\n",
      "\n",
      "\n",
      "  df['adjusted_price'].fillna(df['price'], inplace=True)\n"
     ]
    }
   ],
   "source": [
    "# 5. Create a new column called `adjusted_price` that has $100 added to every listing in Williamsburg.  \n",
    "# The prices for all other listings should be the same as the were before. \n",
    "\n",
    "select_condition = df['neighbourhood'] == 'Williamsburg'\n",
    "df['adjusted_price'] = df[select_condition]['price'] + 100\n",
    "df['adjusted_price'].fillna(df['price'], inplace=True)\n",
    "\n",
    "df_williamsburg = df[df['neighbourhood'] == 'Williamsburg']\n",
    "print(\"The average price in Williamsburg is\", df_williamsburg['price'].mean())\n",
    "print(\"The average adjusted price in Williamsburg is\", df_williamsburg['adjusted_price'].mean())"
   ]
  },
  {
   "cell_type": "code",
   "execution_count": null,
   "metadata": {},
   "outputs": [
    {
     "data": {
      "text/plain": [
       "room_type\n",
       "Entire home/apt    51.578653\n",
       "Private room       45.444581\n",
       "Shared room         2.121349\n",
       "Hotel room          0.855417\n",
       "Name: proportion, dtype: float64"
      ]
     },
     "execution_count": 12,
     "metadata": {},
     "output_type": "execute_result"
    }
   ],
   "source": [
    "# 6. What % of the rooms are private, and what % of the rooms are shared.  \n",
    "\n",
    "df['room_type'].value_counts(normalize=True) * 100\n",
    "\n"
   ]
  },
  {
   "cell_type": "markdown",
   "metadata": {},
   "source": [
    "# Exercise 3 - Grouping\n",
    "\n",
    "1. Using `groupby`, count how many listings are in each neighbourhood_group.\n",
    "\n",
    "\n",
    "2. Using `groupby`, find the mean price for each of the neighbourhood_groups. \n",
    "\n",
    "\n",
    "3. Using `groupby` and `.agg()`, find the min and max price for each of the neighbourhood_groups. \n",
    "\n",
    "\n",
    "4. Using `groupby`, find the median price for each room type in each neighbourhood_group.\n",
    "\n",
    "\n",
    "5. Using `groupby` and `.agg()`, find the count, min, max, mean, median, and std of the prices for each room type in each neighbourhood_group."
   ]
  },
  {
   "cell_type": "code",
   "execution_count": null,
   "metadata": {},
   "outputs": [
    {
     "data": {
      "text/plain": [
       "neighbourhood_group\n",
       "Bronx             1183\n",
       "Brooklyn         18632\n",
       "Manhattan        20580\n",
       "Queens            5791\n",
       "Staten Island      341\n",
       "dtype: int64"
      ]
     },
     "execution_count": 13,
     "metadata": {},
     "output_type": "execute_result"
    }
   ],
   "source": [
    "# 1. Using `groupby`, count how many listings are in each neighbourhood_group.\n",
    "\n",
    "df.groupby('neighbourhood_group').size()\n"
   ]
  },
  {
   "cell_type": "code",
   "execution_count": null,
   "metadata": {},
   "outputs": [
    {
     "data": {
      "text/plain": [
       "neighbourhood_group\n",
       "Bronx             92.751479\n",
       "Brooklyn         120.225258\n",
       "Manhattan        191.880466\n",
       "Queens            99.754965\n",
       "Staten Island    110.947214\n",
       "Name: price, dtype: float64"
      ]
     },
     "execution_count": 14,
     "metadata": {},
     "output_type": "execute_result"
    }
   ],
   "source": [
    "# 2. Using `groupby`, find the mean price for each of the neighbourhood_groups. \n",
    "\n",
    "df.groupby('neighbourhood_group')['price'].mean()\n"
   ]
  },
  {
   "cell_type": "code",
   "execution_count": null,
   "metadata": {},
   "outputs": [
    {
     "data": {
      "text/plain": [
       "room_type\n",
       "Entire home/apt    199.395950\n",
       "Hotel room         275.015075\n",
       "Private room        91.453084\n",
       "Shared room         87.063830\n",
       "Name: price, dtype: float64"
      ]
     },
     "execution_count": 15,
     "metadata": {},
     "output_type": "execute_result"
    }
   ],
   "source": [
    "# 2.5. Using `groupby`, find the mean price for each room_type. \n",
    "\n",
    "df.groupby('room_type')['price'].mean()\n"
   ]
  },
  {
   "cell_type": "code",
   "execution_count": null,
   "metadata": {},
   "outputs": [
    {
     "data": {
      "text/html": [
       "<div>\n",
       "<style scoped>\n",
       "    .dataframe tbody tr th:only-of-type {\n",
       "        vertical-align: middle;\n",
       "    }\n",
       "\n",
       "    .dataframe tbody tr th {\n",
       "        vertical-align: top;\n",
       "    }\n",
       "\n",
       "    .dataframe thead th {\n",
       "        text-align: right;\n",
       "    }\n",
       "</style>\n",
       "<table border=\"1\" class=\"dataframe\">\n",
       "  <thead>\n",
       "    <tr style=\"text-align: right;\">\n",
       "      <th></th>\n",
       "      <th>min</th>\n",
       "      <th>max</th>\n",
       "    </tr>\n",
       "    <tr>\n",
       "      <th>neighbourhood_group</th>\n",
       "      <th></th>\n",
       "      <th></th>\n",
       "    </tr>\n",
       "  </thead>\n",
       "  <tbody>\n",
       "    <tr>\n",
       "      <th>Bronx</th>\n",
       "      <td>16</td>\n",
       "      <td>1404</td>\n",
       "    </tr>\n",
       "    <tr>\n",
       "      <th>Brooklyn</th>\n",
       "      <td>0</td>\n",
       "      <td>10000</td>\n",
       "    </tr>\n",
       "    <tr>\n",
       "      <th>Manhattan</th>\n",
       "      <td>0</td>\n",
       "      <td>10000</td>\n",
       "    </tr>\n",
       "    <tr>\n",
       "      <th>Queens</th>\n",
       "      <td>0</td>\n",
       "      <td>10000</td>\n",
       "    </tr>\n",
       "    <tr>\n",
       "      <th>Staten Island</th>\n",
       "      <td>19</td>\n",
       "      <td>1200</td>\n",
       "    </tr>\n",
       "  </tbody>\n",
       "</table>\n",
       "</div>"
      ],
      "text/plain": [
       "                     min    max\n",
       "neighbourhood_group            \n",
       "Bronx                 16   1404\n",
       "Brooklyn               0  10000\n",
       "Manhattan              0  10000\n",
       "Queens                 0  10000\n",
       "Staten Island         19   1200"
      ]
     },
     "execution_count": 16,
     "metadata": {},
     "output_type": "execute_result"
    }
   ],
   "source": [
    "# 3. Using `groupby` and `.agg()`, find the min and max price for each of the neighbourhood_groups. \n",
    "\n",
    "df.groupby('neighbourhood_group')['price'].agg(['min', 'max'])\n"
   ]
  },
  {
   "cell_type": "code",
   "execution_count": null,
   "metadata": {},
   "outputs": [
    {
     "data": {
      "text/plain": [
       "neighbourhood_group  room_type      \n",
       "Bronx                Entire home/apt    138.004819\n",
       "                     Private room        68.419668\n",
       "                     Shared room         66.391304\n",
       "Brooklyn             Entire home/apt    171.587687\n",
       "                     Hotel room         147.300000\n",
       "                     Private room        71.291189\n",
       "                     Shared room         57.870091\n",
       "Manhattan            Entire home/apt    231.335572\n",
       "                     Hotel room         292.515670\n",
       "                     Private room       128.277069\n",
       "                     Shared room        111.735084\n",
       "Queens               Entire home/apt    150.168900\n",
       "                     Hotel room         139.058824\n",
       "                     Private room        69.972564\n",
       "                     Shared room         89.891892\n",
       "Staten Island        Entire home/apt    151.720930\n",
       "                     Private room        70.312883\n",
       "                     Shared room         46.000000\n",
       "Name: price, dtype: float64"
      ]
     },
     "execution_count": 17,
     "metadata": {},
     "output_type": "execute_result"
    }
   ],
   "source": [
    "# 4. Using `groupby`, find the mean price for each room_type in each neighbourhood_group.\n",
    "df.groupby(['neighbourhood_group', 'room_type'])['price'].mean()\n"
   ]
  },
  {
   "cell_type": "code",
   "execution_count": null,
   "metadata": {},
   "outputs": [
    {
     "data": {
      "text/html": [
       "<div>\n",
       "<style scoped>\n",
       "    .dataframe tbody tr th:only-of-type {\n",
       "        vertical-align: middle;\n",
       "    }\n",
       "\n",
       "    .dataframe tbody tr th {\n",
       "        vertical-align: top;\n",
       "    }\n",
       "\n",
       "    .dataframe thead th {\n",
       "        text-align: right;\n",
       "    }\n",
       "</style>\n",
       "<table border=\"1\" class=\"dataframe\">\n",
       "  <thead>\n",
       "    <tr style=\"text-align: right;\">\n",
       "      <th></th>\n",
       "      <th></th>\n",
       "      <th>count</th>\n",
       "      <th>min</th>\n",
       "      <th>max</th>\n",
       "      <th>mean</th>\n",
       "      <th>median</th>\n",
       "      <th>std</th>\n",
       "    </tr>\n",
       "    <tr>\n",
       "      <th>neighbourhood_group</th>\n",
       "      <th>room_type</th>\n",
       "      <th></th>\n",
       "      <th></th>\n",
       "      <th></th>\n",
       "      <th></th>\n",
       "      <th></th>\n",
       "      <th></th>\n",
       "    </tr>\n",
       "  </thead>\n",
       "  <tbody>\n",
       "    <tr>\n",
       "      <th rowspan=\"3\" valign=\"top\">Bronx</th>\n",
       "      <th>Entire home/apt</th>\n",
       "      <td>415</td>\n",
       "      <td>25</td>\n",
       "      <td>1404</td>\n",
       "      <td>138.004819</td>\n",
       "      <td>103.0</td>\n",
       "      <td>126.032106</td>\n",
       "    </tr>\n",
       "    <tr>\n",
       "      <th>Private room</th>\n",
       "      <td>722</td>\n",
       "      <td>16</td>\n",
       "      <td>700</td>\n",
       "      <td>68.419668</td>\n",
       "      <td>55.0</td>\n",
       "      <td>57.337866</td>\n",
       "    </tr>\n",
       "    <tr>\n",
       "      <th>Shared room</th>\n",
       "      <td>46</td>\n",
       "      <td>20</td>\n",
       "      <td>800</td>\n",
       "      <td>66.391304</td>\n",
       "      <td>44.0</td>\n",
       "      <td>114.442703</td>\n",
       "    </tr>\n",
       "    <tr>\n",
       "      <th rowspan=\"4\" valign=\"top\">Brooklyn</th>\n",
       "      <th>Entire home/apt</th>\n",
       "      <td>9112</td>\n",
       "      <td>20</td>\n",
       "      <td>10000</td>\n",
       "      <td>171.587687</td>\n",
       "      <td>135.0</td>\n",
       "      <td>236.732843</td>\n",
       "    </tr>\n",
       "    <tr>\n",
       "      <th>Hotel room</th>\n",
       "      <td>30</td>\n",
       "      <td>0</td>\n",
       "      <td>399</td>\n",
       "      <td>147.300000</td>\n",
       "      <td>129.0</td>\n",
       "      <td>91.153206</td>\n",
       "    </tr>\n",
       "    <tr>\n",
       "      <th>Private room</th>\n",
       "      <td>9159</td>\n",
       "      <td>10</td>\n",
       "      <td>2500</td>\n",
       "      <td>71.291189</td>\n",
       "      <td>60.0</td>\n",
       "      <td>69.023165</td>\n",
       "    </tr>\n",
       "    <tr>\n",
       "      <th>Shared room</th>\n",
       "      <td>331</td>\n",
       "      <td>15</td>\n",
       "      <td>1500</td>\n",
       "      <td>57.870091</td>\n",
       "      <td>36.0</td>\n",
       "      <td>92.217618</td>\n",
       "    </tr>\n",
       "    <tr>\n",
       "      <th rowspan=\"4\" valign=\"top\">Manhattan</th>\n",
       "      <th>Entire home/apt</th>\n",
       "      <td>12209</td>\n",
       "      <td>0</td>\n",
       "      <td>10000</td>\n",
       "      <td>231.335572</td>\n",
       "      <td>165.0</td>\n",
       "      <td>410.306439</td>\n",
       "    </tr>\n",
       "    <tr>\n",
       "      <th>Hotel room</th>\n",
       "      <td>351</td>\n",
       "      <td>0</td>\n",
       "      <td>2211</td>\n",
       "      <td>292.515670</td>\n",
       "      <td>210.0</td>\n",
       "      <td>315.924085</td>\n",
       "    </tr>\n",
       "    <tr>\n",
       "      <th>Private room</th>\n",
       "      <td>7601</td>\n",
       "      <td>10</td>\n",
       "      <td>10000</td>\n",
       "      <td>128.277069</td>\n",
       "      <td>80.0</td>\n",
       "      <td>448.677306</td>\n",
       "    </tr>\n",
       "    <tr>\n",
       "      <th>Shared room</th>\n",
       "      <td>419</td>\n",
       "      <td>10</td>\n",
       "      <td>10000</td>\n",
       "      <td>111.735084</td>\n",
       "      <td>60.0</td>\n",
       "      <td>502.728868</td>\n",
       "    </tr>\n",
       "    <tr>\n",
       "      <th rowspan=\"4\" valign=\"top\">Queens</th>\n",
       "      <th>Entire home/apt</th>\n",
       "      <td>2090</td>\n",
       "      <td>10</td>\n",
       "      <td>10000</td>\n",
       "      <td>150.168900</td>\n",
       "      <td>115.0</td>\n",
       "      <td>252.606739</td>\n",
       "    </tr>\n",
       "    <tr>\n",
       "      <th>Hotel room</th>\n",
       "      <td>17</td>\n",
       "      <td>0</td>\n",
       "      <td>249</td>\n",
       "      <td>139.058824</td>\n",
       "      <td>149.0</td>\n",
       "      <td>50.743806</td>\n",
       "    </tr>\n",
       "    <tr>\n",
       "      <th>Private room</th>\n",
       "      <td>3499</td>\n",
       "      <td>18</td>\n",
       "      <td>9000</td>\n",
       "      <td>69.972564</td>\n",
       "      <td>55.0</td>\n",
       "      <td>163.814468</td>\n",
       "    </tr>\n",
       "    <tr>\n",
       "      <th>Shared room</th>\n",
       "      <td>185</td>\n",
       "      <td>14</td>\n",
       "      <td>3000</td>\n",
       "      <td>89.891892</td>\n",
       "      <td>40.0</td>\n",
       "      <td>275.675158</td>\n",
       "    </tr>\n",
       "    <tr>\n",
       "      <th rowspan=\"3\" valign=\"top\">Staten Island</th>\n",
       "      <th>Entire home/apt</th>\n",
       "      <td>172</td>\n",
       "      <td>39</td>\n",
       "      <td>1200</td>\n",
       "      <td>151.720930</td>\n",
       "      <td>111.0</td>\n",
       "      <td>147.518392</td>\n",
       "    </tr>\n",
       "    <tr>\n",
       "      <th>Private room</th>\n",
       "      <td>163</td>\n",
       "      <td>20</td>\n",
       "      <td>800</td>\n",
       "      <td>70.312883</td>\n",
       "      <td>55.0</td>\n",
       "      <td>70.759593</td>\n",
       "    </tr>\n",
       "    <tr>\n",
       "      <th>Shared room</th>\n",
       "      <td>6</td>\n",
       "      <td>19</td>\n",
       "      <td>82</td>\n",
       "      <td>46.000000</td>\n",
       "      <td>38.0</td>\n",
       "      <td>28.446441</td>\n",
       "    </tr>\n",
       "  </tbody>\n",
       "</table>\n",
       "</div>"
      ],
      "text/plain": [
       "                                     count  min    max        mean  median  \\\n",
       "neighbourhood_group room_type                                                \n",
       "Bronx               Entire home/apt    415   25   1404  138.004819   103.0   \n",
       "                    Private room       722   16    700   68.419668    55.0   \n",
       "                    Shared room         46   20    800   66.391304    44.0   \n",
       "Brooklyn            Entire home/apt   9112   20  10000  171.587687   135.0   \n",
       "                    Hotel room          30    0    399  147.300000   129.0   \n",
       "                    Private room      9159   10   2500   71.291189    60.0   \n",
       "                    Shared room        331   15   1500   57.870091    36.0   \n",
       "Manhattan           Entire home/apt  12209    0  10000  231.335572   165.0   \n",
       "                    Hotel room         351    0   2211  292.515670   210.0   \n",
       "                    Private room      7601   10  10000  128.277069    80.0   \n",
       "                    Shared room        419   10  10000  111.735084    60.0   \n",
       "Queens              Entire home/apt   2090   10  10000  150.168900   115.0   \n",
       "                    Hotel room          17    0    249  139.058824   149.0   \n",
       "                    Private room      3499   18   9000   69.972564    55.0   \n",
       "                    Shared room        185   14   3000   89.891892    40.0   \n",
       "Staten Island       Entire home/apt    172   39   1200  151.720930   111.0   \n",
       "                    Private room       163   20    800   70.312883    55.0   \n",
       "                    Shared room          6   19     82   46.000000    38.0   \n",
       "\n",
       "                                            std  \n",
       "neighbourhood_group room_type                    \n",
       "Bronx               Entire home/apt  126.032106  \n",
       "                    Private room      57.337866  \n",
       "                    Shared room      114.442703  \n",
       "Brooklyn            Entire home/apt  236.732843  \n",
       "                    Hotel room        91.153206  \n",
       "                    Private room      69.023165  \n",
       "                    Shared room       92.217618  \n",
       "Manhattan           Entire home/apt  410.306439  \n",
       "                    Hotel room       315.924085  \n",
       "                    Private room     448.677306  \n",
       "                    Shared room      502.728868  \n",
       "Queens              Entire home/apt  252.606739  \n",
       "                    Hotel room        50.743806  \n",
       "                    Private room     163.814468  \n",
       "                    Shared room      275.675158  \n",
       "Staten Island       Entire home/apt  147.518392  \n",
       "                    Private room      70.759593  \n",
       "                    Shared room       28.446441  "
      ]
     },
     "execution_count": 18,
     "metadata": {},
     "output_type": "execute_result"
    }
   ],
   "source": [
    "# 5. Using `groupby` and `.agg()`, find the count, min, max, mean, median, and std of the prices \n",
    "# for each room type in each neighbourhood_group.\n",
    "\n",
    "df.groupby(['neighbourhood_group', 'room_type'])['price'].agg(['count', 'min', 'max', 'mean', 'median', 'std'])\n",
    "\n"
   ]
  },
  {
   "cell_type": "markdown",
   "metadata": {},
   "source": [
    "# Load, Merge, and Export files.\n",
    "1. Load the `prices.csv` and the `n_listings.csv`\n",
    "    * Having an error..? Inspect the actual csv file if you're having trouble\n",
    "\n",
    "2. Do join that keeps all the records for each table.\n",
    "    * Neighbourhood groups should include ['Bronx', 'Brooklyn', 'Manhattan', 'Queens', 'Staten Island',\n",
    "       'LongIsland']\n",
    "\n",
    "       \n",
    "3. Save your joined csv as `joined.csv` into the data folder. \n",
    "\n",
    "\n",
    "4. Load your saved table and see if it looks the same or different that the DataFrame you used to create it. "
   ]
  },
  {
   "cell_type": "code",
   "execution_count": null,
   "metadata": {},
   "outputs": [],
   "source": [
    "# 1. Load the `prices.csv` and the `n_listings.csv`\n",
    "df_prices = pd.read_csv(\"data/prices.csv\")\n",
    "df_listing = pd.read_csv(\"data/n_listings.csv\")"
   ]
  },
  {
   "cell_type": "code",
   "execution_count": null,
   "metadata": {},
   "outputs": [],
   "source": [
    "# 2. Do join that keeps all the records for each table.\n",
    "\n",
    "\n"
   ]
  },
  {
   "cell_type": "code",
   "execution_count": null,
   "metadata": {},
   "outputs": [],
   "source": [
    "# 3. Save your joined csv as `joined.csv` into the data folder. "
   ]
  },
  {
   "cell_type": "code",
   "execution_count": null,
   "metadata": {},
   "outputs": [],
   "source": [
    "# 4. Load your newly saved file, see if it looks the same.  If not, try saving with argument `index=False`"
   ]
  },
  {
   "cell_type": "markdown",
   "metadata": {},
   "source": [
    "# Extra Credit\n",
    "Every question below this cell is extra credit and optional."
   ]
  },
  {
   "cell_type": "markdown",
   "metadata": {},
   "source": [
    "### 1. (Easy) Explore this new PandasAI Package and tell me what its all about because I've never used it. \n",
    "* https://www.youtube.com/watch?v=5w6eZaoDVVk&ab_channel=CodingIsFun  \n",
    "* See if you can use it on the listings.csv to find out some cool info. or answer some of the questions above. "
   ]
  },
  {
   "cell_type": "code",
   "execution_count": null,
   "metadata": {},
   "outputs": [],
   "source": [
    "from pandasai import PandasAI\n",
    "\n",
    "# Load your dataset into a pandas dataframe\n",
    "df = pd.read_csv(\"listings.csv\")\n",
    "\n",
    "# Initialize PandasAI with the necessary configuration\n",
    "pandas_ai = PandasAI()\n",
    "\n",
    "# Ask a question in plain English and let PandasAI analyze the data\n",
    "response = pandas_ai.run(df, prompt=\"What is the average price of listings?\")\n",
    "print(response)"
   ]
  },
  {
   "cell_type": "markdown",
   "metadata": {},
   "source": [
    "### 2. (Very Easy) Find other cool Panda packages / add ons and show us what they can do well. And how you installed them. "
   ]
  },
  {
   "cell_type": "markdown",
   "metadata": {},
   "source": [
    "### 3. (Medium) Use the grammys.csv data for the next section of questions.\n",
    "\n",
    "1. Who was won Album of the Year in 2016?\n",
    "\n",
    "\n",
    "2. Who won Best Rap Album in 2009?\n",
    "\n",
    "\n",
    "3. How many awards was Kendrick Lamar nomiated for, and how many did he win...?"
   ]
  },
  {
   "cell_type": "code",
   "execution_count": null,
   "metadata": {},
   "outputs": [],
   "source": [
    "df_grammys = pd.read_csv(\"data/grammys.csv\")"
   ]
  },
  {
   "cell_type": "code",
   "execution_count": null,
   "metadata": {},
   "outputs": [
    {
     "data": {
      "text/plain": [
       "0       1959\n",
       "1       1959\n",
       "2       1959\n",
       "3       1959\n",
       "4       1959\n",
       "        ... \n",
       "6318    2019\n",
       "6319    2019\n",
       "6320    2019\n",
       "6321    2019\n",
       "6322    2019\n",
       "Name: year, Length: 6323, dtype: int64"
      ]
     },
     "execution_count": 24,
     "metadata": {},
     "output_type": "execute_result"
    }
   ],
   "source": [
    "df_grammys['year']"
   ]
  },
  {
   "cell_type": "code",
   "execution_count": null,
   "metadata": {},
   "outputs": [
    {
     "data": {
      "text/html": [
       "<div>\n",
       "<style scoped>\n",
       "    .dataframe tbody tr th:only-of-type {\n",
       "        vertical-align: middle;\n",
       "    }\n",
       "\n",
       "    .dataframe tbody tr th {\n",
       "        vertical-align: top;\n",
       "    }\n",
       "\n",
       "    .dataframe thead th {\n",
       "        text-align: right;\n",
       "    }\n",
       "</style>\n",
       "<table border=\"1\" class=\"dataframe\">\n",
       "  <thead>\n",
       "    <tr style=\"text-align: right;\">\n",
       "      <th></th>\n",
       "      <th>year</th>\n",
       "      <th>category</th>\n",
       "      <th>nominee</th>\n",
       "      <th>workers</th>\n",
       "      <th>winner</th>\n",
       "    </tr>\n",
       "  </thead>\n",
       "  <tbody>\n",
       "    <tr>\n",
       "      <th>5505</th>\n",
       "      <td>2016</td>\n",
       "      <td>Album of the Year</td>\n",
       "      <td>1989.</td>\n",
       "      <td>Taylor Swift (artist/producer), Jack Antonoff ...</td>\n",
       "      <td>True</td>\n",
       "    </tr>\n",
       "  </tbody>\n",
       "</table>\n",
       "</div>"
      ],
      "text/plain": [
       "      year           category nominee  \\\n",
       "5505  2016  Album of the Year   1989.   \n",
       "\n",
       "                                                workers  winner  \n",
       "5505  Taylor Swift (artist/producer), Jack Antonoff ...    True  "
      ]
     },
     "execution_count": 25,
     "metadata": {},
     "output_type": "execute_result"
    }
   ],
   "source": [
    "#Who was won Album of the Year in 2016?\n",
    "df_grammys[(df_grammys['year'] == 2016) & (df_grammys['category'] == 'Album of the Year') & df_grammys['winner']]"
   ]
  },
  {
   "cell_type": "code",
   "execution_count": null,
   "metadata": {},
   "outputs": [
    {
     "data": {
      "text/html": [
       "<div>\n",
       "<style scoped>\n",
       "    .dataframe tbody tr th:only-of-type {\n",
       "        vertical-align: middle;\n",
       "    }\n",
       "\n",
       "    .dataframe tbody tr th {\n",
       "        vertical-align: top;\n",
       "    }\n",
       "\n",
       "    .dataframe thead th {\n",
       "        text-align: right;\n",
       "    }\n",
       "</style>\n",
       "<table border=\"1\" class=\"dataframe\">\n",
       "  <thead>\n",
       "    <tr style=\"text-align: right;\">\n",
       "      <th></th>\n",
       "      <th>year</th>\n",
       "      <th>category</th>\n",
       "      <th>nominee</th>\n",
       "      <th>workers</th>\n",
       "      <th>winner</th>\n",
       "    </tr>\n",
       "  </thead>\n",
       "  <tbody>\n",
       "    <tr>\n",
       "      <th>4396</th>\n",
       "      <td>2009</td>\n",
       "      <td>Best Rap Album</td>\n",
       "      <td>Tha Carter III</td>\n",
       "      <td>Lil' Wayne</td>\n",
       "      <td>True</td>\n",
       "    </tr>\n",
       "  </tbody>\n",
       "</table>\n",
       "</div>"
      ],
      "text/plain": [
       "      year        category         nominee     workers  winner\n",
       "4396  2009  Best Rap Album  Tha Carter III  Lil' Wayne    True"
      ]
     },
     "execution_count": 26,
     "metadata": {},
     "output_type": "execute_result"
    }
   ],
   "source": [
    "#who won Best Rap Album in 2009?\n",
    "\n",
    "df_grammys[(df_grammys['year'] == 2009) & (df_grammys['category'] == 'Best Rap Album') & df_grammys['winner']]"
   ]
  },
  {
   "cell_type": "code",
   "execution_count": null,
   "metadata": {},
   "outputs": [
    {
     "data": {
      "text/html": [
       "<div>\n",
       "<style scoped>\n",
       "    .dataframe tbody tr th:only-of-type {\n",
       "        vertical-align: middle;\n",
       "    }\n",
       "\n",
       "    .dataframe tbody tr th {\n",
       "        vertical-align: top;\n",
       "    }\n",
       "\n",
       "    .dataframe thead th {\n",
       "        text-align: right;\n",
       "    }\n",
       "</style>\n",
       "<table border=\"1\" class=\"dataframe\">\n",
       "  <thead>\n",
       "    <tr style=\"text-align: right;\">\n",
       "      <th></th>\n",
       "      <th>year</th>\n",
       "      <th>category</th>\n",
       "      <th>nominee</th>\n",
       "      <th>workers</th>\n",
       "      <th>winner</th>\n",
       "    </tr>\n",
       "  </thead>\n",
       "  <tbody>\n",
       "    <tr>\n",
       "      <th>5269</th>\n",
       "      <td>2014</td>\n",
       "      <td>Best Rap Album</td>\n",
       "      <td>Good Kid, M.A.A.D City.</td>\n",
       "      <td>Kendrick Lamar</td>\n",
       "      <td>False</td>\n",
       "    </tr>\n",
       "    <tr>\n",
       "      <th>5272</th>\n",
       "      <td>2014</td>\n",
       "      <td>Best Rap Performance</td>\n",
       "      <td>Swimming Pools (Drank).</td>\n",
       "      <td>Kendrick Lamar</td>\n",
       "      <td>False</td>\n",
       "    </tr>\n",
       "    <tr>\n",
       "      <th>5448</th>\n",
       "      <td>2015</td>\n",
       "      <td>Best Rap Performance</td>\n",
       "      <td>i.</td>\n",
       "      <td>Kendrick Lamar</td>\n",
       "      <td>True</td>\n",
       "    </tr>\n",
       "    <tr>\n",
       "      <th>5596</th>\n",
       "      <td>2016</td>\n",
       "      <td>Best Rap Album</td>\n",
       "      <td>To Pimp a Butterfly.</td>\n",
       "      <td>Kendrick Lamar</td>\n",
       "      <td>True</td>\n",
       "    </tr>\n",
       "    <tr>\n",
       "      <th>5599</th>\n",
       "      <td>2016</td>\n",
       "      <td>Best Rap Performance</td>\n",
       "      <td>Alright.</td>\n",
       "      <td>Kendrick Lamar</td>\n",
       "      <td>True</td>\n",
       "    </tr>\n",
       "    <tr>\n",
       "      <th>6003</th>\n",
       "      <td>2018</td>\n",
       "      <td>Best Rap Performance</td>\n",
       "      <td>HUMBLE.</td>\n",
       "      <td>Kendrick Lamar</td>\n",
       "      <td>True</td>\n",
       "    </tr>\n",
       "  </tbody>\n",
       "</table>\n",
       "</div>"
      ],
      "text/plain": [
       "      year              category                  nominee         workers  \\\n",
       "5269  2014        Best Rap Album  Good Kid, M.A.A.D City.  Kendrick Lamar   \n",
       "5272  2014  Best Rap Performance  Swimming Pools (Drank).  Kendrick Lamar   \n",
       "5448  2015  Best Rap Performance                       i.  Kendrick Lamar   \n",
       "5596  2016        Best Rap Album     To Pimp a Butterfly.  Kendrick Lamar   \n",
       "5599  2016  Best Rap Performance                 Alright.  Kendrick Lamar   \n",
       "6003  2018  Best Rap Performance                  HUMBLE.  Kendrick Lamar   \n",
       "\n",
       "      winner  \n",
       "5269   False  \n",
       "5272   False  \n",
       "5448    True  \n",
       "5596    True  \n",
       "5599    True  \n",
       "6003    True  "
      ]
     },
     "execution_count": 27,
     "metadata": {},
     "output_type": "execute_result"
    }
   ],
   "source": [
    "#how many awards was Kendrick Lamar nomiated for, and how many did he win?\n",
    "\n",
    "df_grammys[(df_grammys['workers'] == 'Kendrick Lamar') & (df_grammys['winner'])]\n",
    "df_grammys[(df_grammys['workers'] == 'Kendrick Lamar')]\n"
   ]
  },
  {
   "cell_type": "code",
   "execution_count": null,
   "metadata": {},
   "outputs": [
    {
     "data": {
      "text/html": [
       "<div>\n",
       "<style scoped>\n",
       "    .dataframe tbody tr th:only-of-type {\n",
       "        vertical-align: middle;\n",
       "    }\n",
       "\n",
       "    .dataframe tbody tr th {\n",
       "        vertical-align: top;\n",
       "    }\n",
       "\n",
       "    .dataframe thead th {\n",
       "        text-align: right;\n",
       "    }\n",
       "</style>\n",
       "<table border=\"1\" class=\"dataframe\">\n",
       "  <thead>\n",
       "    <tr style=\"text-align: right;\">\n",
       "      <th></th>\n",
       "      <th>year</th>\n",
       "      <th>category</th>\n",
       "      <th>nominee</th>\n",
       "      <th>workers</th>\n",
       "      <th>winner</th>\n",
       "    </tr>\n",
       "  </thead>\n",
       "  <tbody>\n",
       "    <tr>\n",
       "      <th>5269</th>\n",
       "      <td>2014</td>\n",
       "      <td>Best Rap Album</td>\n",
       "      <td>Good Kid, M.A.A.D City.</td>\n",
       "      <td>Kendrick Lamar</td>\n",
       "      <td>False</td>\n",
       "    </tr>\n",
       "    <tr>\n",
       "      <th>5272</th>\n",
       "      <td>2014</td>\n",
       "      <td>Best Rap Performance</td>\n",
       "      <td>Swimming Pools (Drank).</td>\n",
       "      <td>Kendrick Lamar</td>\n",
       "      <td>False</td>\n",
       "    </tr>\n",
       "    <tr>\n",
       "      <th>5448</th>\n",
       "      <td>2015</td>\n",
       "      <td>Best Rap Performance</td>\n",
       "      <td>i.</td>\n",
       "      <td>Kendrick Lamar</td>\n",
       "      <td>True</td>\n",
       "    </tr>\n",
       "    <tr>\n",
       "      <th>5451</th>\n",
       "      <td>2015</td>\n",
       "      <td>Best Rap Song</td>\n",
       "      <td>i.</td>\n",
       "      <td>Kendrick Lamar (Songwriter), Rahki (Songwriter)</td>\n",
       "      <td>True</td>\n",
       "    </tr>\n",
       "    <tr>\n",
       "      <th>5507</th>\n",
       "      <td>2016</td>\n",
       "      <td>Album of the Year</td>\n",
       "      <td>To Pimp a Butterfly.</td>\n",
       "      <td>Kendrick Lamar (artist), Bilal (featured artis...</td>\n",
       "      <td>False</td>\n",
       "    </tr>\n",
       "    <tr>\n",
       "      <th>5575</th>\n",
       "      <td>2016</td>\n",
       "      <td>Best Music Video</td>\n",
       "      <td>Taylor Swift: Bad Blood</td>\n",
       "      <td>Taylor Swift (artist), Kendrick Lamar (artist)...</td>\n",
       "      <td>True</td>\n",
       "    </tr>\n",
       "    <tr>\n",
       "      <th>5596</th>\n",
       "      <td>2016</td>\n",
       "      <td>Best Rap Album</td>\n",
       "      <td>To Pimp a Butterfly.</td>\n",
       "      <td>Kendrick Lamar</td>\n",
       "      <td>True</td>\n",
       "    </tr>\n",
       "    <tr>\n",
       "      <th>5599</th>\n",
       "      <td>2016</td>\n",
       "      <td>Best Rap Performance</td>\n",
       "      <td>Alright.</td>\n",
       "      <td>Kendrick Lamar</td>\n",
       "      <td>True</td>\n",
       "    </tr>\n",
       "    <tr>\n",
       "      <th>5602</th>\n",
       "      <td>2016</td>\n",
       "      <td>Best Rap Song</td>\n",
       "      <td>Alright.</td>\n",
       "      <td>Kendrick Lamar (songwriter), Kawan Prather (so...</td>\n",
       "      <td>True</td>\n",
       "    </tr>\n",
       "    <tr>\n",
       "      <th>5604</th>\n",
       "      <td>2016</td>\n",
       "      <td>Best Rap Song</td>\n",
       "      <td>All Day.</td>\n",
       "      <td>Tyler Bryant (songwriter), Sean 'Diddy' Combs ...</td>\n",
       "      <td>False</td>\n",
       "    </tr>\n",
       "    <tr>\n",
       "      <th>5605</th>\n",
       "      <td>2016</td>\n",
       "      <td>Best Rap/Sung Collaboration</td>\n",
       "      <td>These Walls.</td>\n",
       "      <td>Kendrick Lamar, Bilal (featured artist), Anna ...</td>\n",
       "      <td>True</td>\n",
       "    </tr>\n",
       "    <tr>\n",
       "      <th>5654</th>\n",
       "      <td>2017</td>\n",
       "      <td>Album of the Year</td>\n",
       "      <td>Lemonade</td>\n",
       "      <td>Dave Kutch (mastering engineer), Stuart White ...</td>\n",
       "      <td>False</td>\n",
       "    </tr>\n",
       "    <tr>\n",
       "      <th>6000</th>\n",
       "      <td>2018</td>\n",
       "      <td>Best Rap Album</td>\n",
       "      <td>Damn</td>\n",
       "      <td>Kendrick Lamar (artist)</td>\n",
       "      <td>True</td>\n",
       "    </tr>\n",
       "    <tr>\n",
       "      <th>6003</th>\n",
       "      <td>2018</td>\n",
       "      <td>Best Rap Performance</td>\n",
       "      <td>HUMBLE.</td>\n",
       "      <td>Kendrick Lamar</td>\n",
       "      <td>True</td>\n",
       "    </tr>\n",
       "    <tr>\n",
       "      <th>6006</th>\n",
       "      <td>2018</td>\n",
       "      <td>Best Rap Song</td>\n",
       "      <td>Humble</td>\n",
       "      <td>Mike Will Made It (songwriter), Asheton Hogan ...</td>\n",
       "      <td>True</td>\n",
       "    </tr>\n",
       "    <tr>\n",
       "      <th>6009</th>\n",
       "      <td>2018</td>\n",
       "      <td>Best Rap/Sung Performance</td>\n",
       "      <td>LOYALTY.</td>\n",
       "      <td>Kendrick Lamar, Rihanna</td>\n",
       "      <td>True</td>\n",
       "    </tr>\n",
       "    <tr>\n",
       "      <th>6087</th>\n",
       "      <td>2019</td>\n",
       "      <td>Album of the Year</td>\n",
       "      <td>Black Panther: The Album, Music from and Inspi...</td>\n",
       "      <td>Kendrick Lamar (featured artist/producer/songw...</td>\n",
       "      <td>False</td>\n",
       "    </tr>\n",
       "    <tr>\n",
       "      <th>6248</th>\n",
       "      <td>2019</td>\n",
       "      <td>Best Rap Song</td>\n",
       "      <td>Win (Jay Rock)</td>\n",
       "      <td>Jay Rock, Kendrick Lamar, Vinylz, Boi-1da, Cor...</td>\n",
       "      <td>False</td>\n",
       "    </tr>\n",
       "    <tr>\n",
       "      <th>6252</th>\n",
       "      <td>2019</td>\n",
       "      <td>Best Rap/Sung Performance</td>\n",
       "      <td>All the Stars</td>\n",
       "      <td>Kendrick Lamar, SZA</td>\n",
       "      <td>False</td>\n",
       "    </tr>\n",
       "    <tr>\n",
       "      <th>6317</th>\n",
       "      <td>2019</td>\n",
       "      <td>Record of the Year</td>\n",
       "      <td>All the Stars</td>\n",
       "      <td>Kendrick Lamar (artist), SZA (artist), Al Shux...</td>\n",
       "      <td>False</td>\n",
       "    </tr>\n",
       "  </tbody>\n",
       "</table>\n",
       "</div>"
      ],
      "text/plain": [
       "      year                     category  \\\n",
       "5269  2014               Best Rap Album   \n",
       "5272  2014         Best Rap Performance   \n",
       "5448  2015         Best Rap Performance   \n",
       "5451  2015                Best Rap Song   \n",
       "5507  2016            Album of the Year   \n",
       "5575  2016             Best Music Video   \n",
       "5596  2016               Best Rap Album   \n",
       "5599  2016         Best Rap Performance   \n",
       "5602  2016                Best Rap Song   \n",
       "5604  2016                Best Rap Song   \n",
       "5605  2016  Best Rap/Sung Collaboration   \n",
       "5654  2017            Album of the Year   \n",
       "6000  2018               Best Rap Album   \n",
       "6003  2018         Best Rap Performance   \n",
       "6006  2018                Best Rap Song   \n",
       "6009  2018    Best Rap/Sung Performance   \n",
       "6087  2019            Album of the Year   \n",
       "6248  2019                Best Rap Song   \n",
       "6252  2019    Best Rap/Sung Performance   \n",
       "6317  2019           Record of the Year   \n",
       "\n",
       "                                                nominee  \\\n",
       "5269                            Good Kid, M.A.A.D City.   \n",
       "5272                            Swimming Pools (Drank).   \n",
       "5448                                                 i.   \n",
       "5451                                                 i.   \n",
       "5507                               To Pimp a Butterfly.   \n",
       "5575                            Taylor Swift: Bad Blood   \n",
       "5596                               To Pimp a Butterfly.   \n",
       "5599                                           Alright.   \n",
       "5602                                           Alright.   \n",
       "5604                                           All Day.   \n",
       "5605                                       These Walls.   \n",
       "5654                                           Lemonade   \n",
       "6000                                               Damn   \n",
       "6003                                            HUMBLE.   \n",
       "6006                                             Humble   \n",
       "6009                                           LOYALTY.   \n",
       "6087  Black Panther: The Album, Music from and Inspi...   \n",
       "6248                                     Win (Jay Rock)   \n",
       "6252                                      All the Stars   \n",
       "6317                                      All the Stars   \n",
       "\n",
       "                                                workers  winner  \n",
       "5269                                     Kendrick Lamar   False  \n",
       "5272                                     Kendrick Lamar   False  \n",
       "5448                                     Kendrick Lamar    True  \n",
       "5451    Kendrick Lamar (Songwriter), Rahki (Songwriter)    True  \n",
       "5507  Kendrick Lamar (artist), Bilal (featured artis...   False  \n",
       "5575  Taylor Swift (artist), Kendrick Lamar (artist)...    True  \n",
       "5596                                     Kendrick Lamar    True  \n",
       "5599                                     Kendrick Lamar    True  \n",
       "5602  Kendrick Lamar (songwriter), Kawan Prather (so...    True  \n",
       "5604  Tyler Bryant (songwriter), Sean 'Diddy' Combs ...   False  \n",
       "5605  Kendrick Lamar, Bilal (featured artist), Anna ...    True  \n",
       "5654  Dave Kutch (mastering engineer), Stuart White ...   False  \n",
       "6000                            Kendrick Lamar (artist)    True  \n",
       "6003                                     Kendrick Lamar    True  \n",
       "6006  Mike Will Made It (songwriter), Asheton Hogan ...    True  \n",
       "6009                            Kendrick Lamar, Rihanna    True  \n",
       "6087  Kendrick Lamar (featured artist/producer/songw...   False  \n",
       "6248  Jay Rock, Kendrick Lamar, Vinylz, Boi-1da, Cor...   False  \n",
       "6252                                Kendrick Lamar, SZA   False  \n",
       "6317  Kendrick Lamar (artist), SZA (artist), Al Shux...   False  "
      ]
     },
     "execution_count": 30,
     "metadata": {},
     "output_type": "execute_result"
    }
   ],
   "source": [
    "kendrick_workers = df_grammys[df_grammys['workers'].str.contains('Kendrick Lamar', na=False)]\n",
    "kendrick_workers"
   ]
  },
  {
   "cell_type": "markdown",
   "metadata": {},
   "source": [
    "### (Hard) Load the Game Logs for 2022 and add the column names using a dictionary.  \n",
    "* [Link to the data page](https://www.retrosheet.org/gamelogs/)\n",
    "* [Link to the column names](https://procatinator.com/)\n",
    "* haha, gotta find them yourself!"
   ]
  },
  {
   "cell_type": "markdown",
   "metadata": {},
   "source": [
    "### (Extra Hard) Download the files for the past 5 years into a new folder and add them all into one data frame using pandas, then save that new file.\n",
    "* Try to not hard code in the file names. We want to do this programmatically because what if we want to add new/more file names in the future."
   ]
  }
 ],
 "metadata": {
  "kernelspec": {
   "display_name": "Python 3 (ipykernel)",
   "language": "python",
   "name": "python3"
  },
  "language_info": {
   "codemirror_mode": {
    "name": "ipython",
    "version": 3
   },
   "file_extension": ".py",
   "mimetype": "text/x-python",
   "name": "python",
   "nbconvert_exporter": "python",
   "pygments_lexer": "ipython3",
   "version": "3.9.13"
  }
 },
 "nbformat": 4,
 "nbformat_minor": 4
}
