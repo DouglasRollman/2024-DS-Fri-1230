{
 "cells": [
  {
   "cell_type": "markdown",
   "metadata": {},
   "source": [
    "# Fall 2024 Data Science Track: Week 5 - Unsupervised Learning"
   ]
  },
  {
   "cell_type": "markdown",
   "metadata": {},
   "source": [
    "## Packages, Packages, Packages!\n",
    "\n",
    "Import *all* the things here! You need: `matplotlib`, `networkx`, `numpy`, and `pandas`―and also `ast.literal_eval` to correctly deserialize two columns in the `rules.tsv.xz` file.\n",
    "\n",
    "If you got more stuff you want to use, add them here too. 🙂"
   ]
  },
  {
   "cell_type": "code",
   "execution_count": 1,
   "metadata": {},
   "outputs": [],
   "source": [
    "# Don’t worry about this. This is needed to interpret the Python code that is embedded in the data set. You only need it literally in the very next code cell and nowhere else. \n",
    "from ast import literal_eval\n",
    "\n",
    "# The rest is just the stuff from the lecture.\n",
    "from matplotlib import pyplot as plt\n",
    "import networkx as nx\n",
    "import numpy as np\n",
    "import pandas as pd"
   ]
  },
  {
   "cell_type": "markdown",
   "metadata": {},
   "source": [
    "# Instacart Association Rules"
   ]
  },
  {
   "cell_type": "markdown",
   "metadata": {},
   "source": [
    "## Introduction\n",
    "\n",
    "With the packages out of the way, now you will be working with the Instacart association rules data set, mined from the [Instacart Market Basket Analysis data set](https://www.kaggle.com/c/instacart-market-basket-analysis/data) on Kaggle. [The script](https://github.com/LiKenun/shopping-assistant/blob/main/api/preprocess_instacart_market_basket_analysis_data.py) that does it and the instructions to run it can be found in my [Shopping Assistant Project](https://github.com/LiKenun/shopping-assistant) repository."
   ]
  },
  {
   "cell_type": "markdown",
   "metadata": {},
   "source": [
    "## Load the Data\n",
    "\n",
    "This code has already been pre-written, simply because there are a few quirks which require converters to ensure the correct deserialization of some columns."
   ]
  },
  {
   "cell_type": "code",
   "execution_count": 2,
   "metadata": {},
   "outputs": [],
   "source": [
    "rules_data_path = 'data/rules.tsv.xz'                       # You do not need to decompress this yourself. Pandas understands how to read compressed data.\n",
    "\n",
    "df_rules = pd.read_csv(rules_data_path,\n",
    "                       sep='\\t',\n",
    "                       quoting=3,                           # This disables interpretation of quotes by Pandas itself, because both single and double quotes will be resolved by literal_eval.\n",
    "                       converters={\n",
    "                           'consequent_item': literal_eval,\n",
    "                           'antecedent_items': literal_eval # This reads something like [\"Grandma's 8\\\" Chip Cookies\", '6\" Apple Pie'] into a list, so you will get a column where each individual cell is a list.\n",
    "                       },\n",
    "                       low_memory=True)                     # For Chris"
   ]
  },
  {
   "cell_type": "markdown",
   "metadata": {},
   "source": [
    "But just *how* many rules were just loaded‽"
   ]
  },
  {
   "cell_type": "code",
   "execution_count": 3,
   "metadata": {},
   "outputs": [
    {
     "name": "stdout",
     "output_type": "stream",
     "text": [
      "Index(['consequent_item', 'transaction_count', 'item_set_count',\n",
      "       'antecedent_count', 'consequent_count', 'antecedent_items'],\n",
      "      dtype='object')\n",
      "1048575\n"
     ]
    }
   ],
   "source": [
    "# Show the list of column names and the number of rules.\n",
    "print(df_rules.columns)\n",
    "print(len(df_rules))\n"
   ]
  },
  {
   "cell_type": "markdown",
   "metadata": {},
   "source": [
    "## Metrics\n",
    "\n",
    "Compute the support, confidence, and lift of each rule.\n",
    "\n",
    "* The rule’s *support* tells you how frequently the set of items appears in the dataset. It’s important to prune infrequent sets from further consideration.\n",
    "    * The simple definition: $$P(A \\cap B)$$\n",
    "    * `= item_set_count / transaction_count`\n",
    "* The rule’s *confidence* tells you how often a the rule is true. Divide the support for the set of items by the support for just the antecedents. Rules which are not true very often are also pruned.\n",
    "    * The simple definition: $$\\frac{P(A \\cap B)}{P(A)}$$\n",
    "    * `= item_set_count / transaction_count / (antecedent_count / transaction_count)`\n",
    "    * `= item_set_count / antecedent_count`\n",
    "* The rule’s *lift* tells you how much more likely the consequent is, given the antecedents, compared to its baseline probability. Divide the support for the set of items by both the support of the antecedents and consequent. Equivalently, divide the confidence by the support of the consequent.\n",
    "    * The simple definition: $$\\frac{P(A \\cap B)}{P(A) \\cdot P(B)}$$\n",
    "    * `= item_set_count / transaction_count / (antecedent_count / transaction_count * (consequent_count / transaction_count))`\n",
    "    * `= item_set_count / antecedent_count / (consequent_count / transaction_count)`\n",
    "    * `= item_set_count * transaction_count / (antecedent_count * consequent_count)`"
   ]
  },
  {
   "cell_type": "code",
   "execution_count": 8,
   "metadata": {},
   "outputs": [
    {
     "data": {
      "text/html": [
       "<div>\n",
       "<style scoped>\n",
       "    .dataframe tbody tr th:only-of-type {\n",
       "        vertical-align: middle;\n",
       "    }\n",
       "\n",
       "    .dataframe tbody tr th {\n",
       "        vertical-align: top;\n",
       "    }\n",
       "\n",
       "    .dataframe thead th {\n",
       "        text-align: right;\n",
       "    }\n",
       "</style>\n",
       "<table border=\"1\" class=\"dataframe\">\n",
       "  <thead>\n",
       "    <tr style=\"text-align: right;\">\n",
       "      <th></th>\n",
       "      <th>consequent_item</th>\n",
       "      <th>transaction_count</th>\n",
       "      <th>item_set_count</th>\n",
       "      <th>antecedent_count</th>\n",
       "      <th>consequent_count</th>\n",
       "      <th>antecedent_items</th>\n",
       "      <th>support</th>\n",
       "      <th>confidence</th>\n",
       "      <th>lift</th>\n",
       "    </tr>\n",
       "  </thead>\n",
       "  <tbody>\n",
       "    <tr>\n",
       "      <th>0</th>\n",
       "      <td>Total 2% with Raspberry Pomegranate Lowfat Gre...</td>\n",
       "      <td>3346083</td>\n",
       "      <td>101</td>\n",
       "      <td>123</td>\n",
       "      <td>128</td>\n",
       "      <td>[Fat Free Blueberry Yogurt, Pineapple Yogurt 2...</td>\n",
       "      <td>0.00003</td>\n",
       "      <td>0.821138</td>\n",
       "      <td>21465.598514</td>\n",
       "    </tr>\n",
       "    <tr>\n",
       "      <th>1</th>\n",
       "      <td>Total 2% Lowfat Greek Strained Yogurt With Blu...</td>\n",
       "      <td>3346083</td>\n",
       "      <td>101</td>\n",
       "      <td>128</td>\n",
       "      <td>123</td>\n",
       "      <td>[Fat Free Strawberry Yogurt, Total 0% Raspberr...</td>\n",
       "      <td>0.00003</td>\n",
       "      <td>0.789062</td>\n",
       "      <td>21465.598514</td>\n",
       "    </tr>\n",
       "    <tr>\n",
       "      <th>2</th>\n",
       "      <td>Total 0% with Honey Nonfat Greek Strained Yogurt</td>\n",
       "      <td>3346083</td>\n",
       "      <td>101</td>\n",
       "      <td>123</td>\n",
       "      <td>128</td>\n",
       "      <td>[Fat Free Blueberry Yogurt, Pineapple Yogurt 2...</td>\n",
       "      <td>0.00003</td>\n",
       "      <td>0.821138</td>\n",
       "      <td>21465.598514</td>\n",
       "    </tr>\n",
       "    <tr>\n",
       "      <th>3</th>\n",
       "      <td>Total 0% Raspberry Yogurt</td>\n",
       "      <td>3346083</td>\n",
       "      <td>101</td>\n",
       "      <td>123</td>\n",
       "      <td>128</td>\n",
       "      <td>[Fat Free Blueberry Yogurt, Pineapple Yogurt 2...</td>\n",
       "      <td>0.00003</td>\n",
       "      <td>0.821138</td>\n",
       "      <td>21465.598514</td>\n",
       "    </tr>\n",
       "    <tr>\n",
       "      <th>4</th>\n",
       "      <td>Pineapple Yogurt 2%</td>\n",
       "      <td>3346083</td>\n",
       "      <td>101</td>\n",
       "      <td>128</td>\n",
       "      <td>123</td>\n",
       "      <td>[Fat Free Strawberry Yogurt, Total 0% Raspberr...</td>\n",
       "      <td>0.00003</td>\n",
       "      <td>0.789062</td>\n",
       "      <td>21465.598514</td>\n",
       "    </tr>\n",
       "  </tbody>\n",
       "</table>\n",
       "</div>"
      ],
      "text/plain": [
       "                                     consequent_item  transaction_count  \\\n",
       "0  Total 2% with Raspberry Pomegranate Lowfat Gre...            3346083   \n",
       "1  Total 2% Lowfat Greek Strained Yogurt With Blu...            3346083   \n",
       "2   Total 0% with Honey Nonfat Greek Strained Yogurt            3346083   \n",
       "3                          Total 0% Raspberry Yogurt            3346083   \n",
       "4                                Pineapple Yogurt 2%            3346083   \n",
       "\n",
       "   item_set_count  antecedent_count  consequent_count  \\\n",
       "0             101               123               128   \n",
       "1             101               128               123   \n",
       "2             101               123               128   \n",
       "3             101               123               128   \n",
       "4             101               128               123   \n",
       "\n",
       "                                    antecedent_items  support  confidence  \\\n",
       "0  [Fat Free Blueberry Yogurt, Pineapple Yogurt 2...  0.00003    0.821138   \n",
       "1  [Fat Free Strawberry Yogurt, Total 0% Raspberr...  0.00003    0.789062   \n",
       "2  [Fat Free Blueberry Yogurt, Pineapple Yogurt 2...  0.00003    0.821138   \n",
       "3  [Fat Free Blueberry Yogurt, Pineapple Yogurt 2...  0.00003    0.821138   \n",
       "4  [Fat Free Strawberry Yogurt, Total 0% Raspberr...  0.00003    0.789062   \n",
       "\n",
       "           lift  \n",
       "0  21465.598514  \n",
       "1  21465.598514  \n",
       "2  21465.598514  \n",
       "3  21465.598514  \n",
       "4  21465.598514  "
      ]
     },
     "execution_count": 8,
     "metadata": {},
     "output_type": "execute_result"
    }
   ],
   "source": [
    "# Add new columns support, confidence, and lift to df_rules. And show the first 50 rules.\n",
    "\n",
    "# Calculate support\n",
    "df_rules['support'] = df_rules['item_set_count'] / df_rules['transaction_count']\n",
    "\n",
    "# Calculate confidence\n",
    "df_rules['confidence'] = df_rules['item_set_count'] / df_rules['antecedent_count']\n",
    "\n",
    "# Calculate lift\n",
    "df_rules['lift'] = (df_rules['item_set_count'] * df_rules['transaction_count']) / (df_rules['antecedent_count'] * df_rules['consequent_count'])\n",
    "\n",
    "# Display the first 50 rules with added columns\n",
    "df_rules.head(5)"
   ]
  },
  {
   "cell_type": "markdown",
   "metadata": {},
   "source": [
    "The yogurts have got some insane lift (*over 9,000*). Why do you think that might be?"
   ]
  },
  {
   "cell_type": "markdown",
   "metadata": {},
   "source": [
    "It's because the transaction count is absolutely insane compared to the rest of the metrics which is definitely messing things up"
   ]
  },
  {
   "cell_type": "code",
   "execution_count": 5,
   "metadata": {},
   "outputs": [],
   "source": [
    "# Query the rule set if you have to to find out more.\n",
    "\n"
   ]
  },
  {
   "cell_type": "markdown",
   "metadata": {},
   "source": [
    "## Network Visualization for Consequents with Single Antecedents\n",
    "\n",
    "Let’s now visualize a small subset of 1,000,000+ rules. First, filter the rule set for the following to whittle it down to something more manageable:\n",
    "\n",
    "1. The rule must have exactly `1` antecedent item. (There should be 38,684 such rules.)\n",
    "2. The lift must be between `5` and `20`. (There should be 1,596 such rules, including the prior criterion.)\n",
    "3. Either the antecedent or consequent of the rule must contain `'Hummus'`, but not both. (This should get you down to 26 rules.)\n",
    "    * Convert the antecedents `list`-typed column to a `str`-typed column (`antecedent_item`) since there will only be a single antecedent in the subset.\n",
    "    * Replace any item containing `'Hummus'` to just `'Hummus'`. This will make the visualization more readable later.\n",
    "\n",
    "Hint: your code may run more efficiently if you re-order certain processing steps.\n",
    "\n",
    "Assign the subset to `df_rules_subset`."
   ]
  },
  {
   "cell_type": "code",
   "execution_count": 12,
   "metadata": {},
   "outputs": [
    {
     "name": "stderr",
     "output_type": "stream",
     "text": [
      "C:\\Users\\dougl\\AppData\\Local\\Temp\\ipykernel_2972\\3196542453.py:12: SettingWithCopyWarning: \n",
      "A value is trying to be set on a copy of a slice from a DataFrame.\n",
      "Try using .loc[row_indexer,col_indexer] = value instead\n",
      "\n",
      "See the caveats in the documentation: https://pandas.pydata.org/pandas-docs/stable/user_guide/indexing.html#returning-a-view-versus-a-copy\n",
      "  df_lift_filtered['antecedent_item'] = df_lift_filtered['antecedent_items'].apply(lambda x: str(eval(str(x))[0]) if isinstance(x, list) else '')\n",
      "C:\\Users\\dougl\\AppData\\Local\\Temp\\ipykernel_2972\\3196542453.py:13: SettingWithCopyWarning: \n",
      "A value is trying to be set on a copy of a slice from a DataFrame.\n",
      "Try using .loc[row_indexer,col_indexer] = value instead\n",
      "\n",
      "See the caveats in the documentation: https://pandas.pydata.org/pandas-docs/stable/user_guide/indexing.html#returning-a-view-versus-a-copy\n",
      "  df_lift_filtered['contains_hummus'] = df_lift_filtered['antecedent_item'].str.contains('Hummus', case=False) | df_lift_filtered['consequent_item'].str.contains('Hummus', case=False)\n",
      "C:\\Users\\dougl\\AppData\\Local\\Temp\\ipykernel_2972\\3196542453.py:20: SettingWithCopyWarning: \n",
      "A value is trying to be set on a copy of a slice from a DataFrame.\n",
      "Try using .loc[row_indexer,col_indexer] = value instead\n",
      "\n",
      "See the caveats in the documentation: https://pandas.pydata.org/pandas-docs/stable/user_guide/indexing.html#returning-a-view-versus-a-copy\n",
      "  df_rules_subset['antecedent_item'] = df_rules_subset['antecedent_item'].replace(to_replace=r'.*Hummus.*', value='Hummus', regex=True)\n"
     ]
    },
    {
     "data": {
      "text/plain": [
       "<bound method DataFrame.info of                                           consequent_item  transaction_count  \\\n",
       "377756  Total 2% Lowfat Greek Strained Yogurt With Blu...            3346083   \n",
       "387837                                        Clementines            3346083   \n",
       "416420                                    Original Hummus            3346083   \n",
       "419119                                    Original Hummus            3346083   \n",
       "422178                                    Original Hummus            3346083   \n",
       "440198                                    Original Hummus            3346083   \n",
       "442099                               Organic Baby Carrots            3346083   \n",
       "463035                                    Original Hummus            3346083   \n",
       "463988                                    Original Hummus            3346083   \n",
       "476420                                    Original Hummus            3346083   \n",
       "506520                                    Original Hummus            3346083   \n",
       "519416                                    Original Hummus            3346083   \n",
       "523791                                    Original Hummus            3346083   \n",
       "531448                                    Original Hummus            3346083   \n",
       "546619                                    Original Hummus            3346083   \n",
       "547477                                    Original Hummus            3346083   \n",
       "550256                               Organic Baby Carrots            3346083   \n",
       "554787                                    Original Hummus            3346083   \n",
       "567246                                    Original Hummus            3346083   \n",
       "570788                         Organic Small Bunch Celery            3346083   \n",
       "570961                                    Original Hummus            3346083   \n",
       "571790                                    Original Hummus            3346083   \n",
       "572363                                    Original Hummus            3346083   \n",
       "573155                                    Original Hummus            3346083   \n",
       "587069                               Organic Baby Carrots            3346083   \n",
       "\n",
       "        item_set_count  antecedent_count  consequent_count  \\\n",
       "377756             100                 1             21405   \n",
       "387837             174                 1             32194   \n",
       "416420             345                 1             74172   \n",
       "419119             293                 1             74172   \n",
       "422178             331                 1             74172   \n",
       "440198            3119                 1             74172   \n",
       "442099             258                 1             80493   \n",
       "463035             151                 1             74172   \n",
       "463988             311                 1             74172   \n",
       "476420             512                 1             74172   \n",
       "506520             168                 1             74172   \n",
       "519416             117                 1             74172   \n",
       "523791            1544                 1             74172   \n",
       "531448             166                 1             74172   \n",
       "546619             244                 1             74172   \n",
       "547477             104                 1             74172   \n",
       "550256             122                 1             80493   \n",
       "554787             250                 1             74172   \n",
       "567246             221                 1             74172   \n",
       "570788             109                 1             70714   \n",
       "570961             126                 1             74172   \n",
       "571790             287                 1             74172   \n",
       "572363             257                 1             74172   \n",
       "573155             111                 1             74172   \n",
       "587069             235                 1             80493   \n",
       "\n",
       "                                         antecedent_items   support  \\\n",
       "377756             [Roasted Red Pepper Hummus With Chips]  0.000030   \n",
       "387837                           [Organic Classic Hummus]  0.000052   \n",
       "416420                         [Organic White Pita Bread]  0.000103   \n",
       "419119                         [Organic Whole Wheat Pita]  0.000088   \n",
       "422178                      [Mini Whole Wheat Pita Bread]  0.000099   \n",
       "440198                              [Sea Salt Pita Chips]  0.000932   \n",
       "442099                           [Organic Classic Hummus]  0.000077   \n",
       "463035                [Lentil Chips, Himalayan Pink Salt]  0.000045   \n",
       "463988                     [Garbanzo Beans No Salt Added]  0.000093   \n",
       "476420                [Organic Whole Peeled Baby Carrots]  0.000153   \n",
       "506520                      [Baba Ghannouge Eggplant Dip]  0.000050   \n",
       "519416  [Sonoma Organic Wraps Multigrain Tortillas Wit...  0.000035   \n",
       "523791                          [Pita Chips Simply Naked]  0.000461   \n",
       "531448                          [Honey Whole Wheat Bread]  0.000050   \n",
       "546619                                       [White Pita]  0.000073   \n",
       "547477                              [Organic Wraps Wheat]  0.000031   \n",
       "550256                                  [Kalamata Hummus]  0.000036   \n",
       "554787             [Rice Thins Brown Rice Snack Crackers]  0.000075   \n",
       "567246                                           [Dolmas]  0.000066   \n",
       "570788                            [Organic Garlic Hummus]  0.000033   \n",
       "570961                                      [Wasabi Peas]  0.000038   \n",
       "571790            [Organic Unsweetened Soy Milk Beverage]  0.000086   \n",
       "572363                    [Traditional Basil Pesto Sauce]  0.000077   \n",
       "573155                          [Teriyaki Veggie Burgers]  0.000033   \n",
       "587069                       [Organic Traditional Hummus]  0.000070   \n",
       "\n",
       "        confidence       lift  \\\n",
       "377756    0.112740  17.623731   \n",
       "387837    0.130435  13.556738   \n",
       "416420    0.208333   9.398434   \n",
       "419119    0.204324   9.217543   \n",
       "422178    0.200000   9.022496   \n",
       "440198    0.179946   8.117800   \n",
       "442099    0.193403   8.039749   \n",
       "463035    0.161844   7.301163   \n",
       "463988    0.161223   7.273189   \n",
       "476420    0.153615   6.929970   \n",
       "506520    0.139073   6.273921   \n",
       "519416    0.133714   6.032183   \n",
       "523791    0.131943   5.952288   \n",
       "531448    0.128982   5.818704   \n",
       "546619    0.123670   5.579040   \n",
       "547477    0.123369   5.565478   \n",
       "550256    0.132898   5.524535   \n",
       "554787    0.121007   5.458916   \n",
       "567246    0.117117   5.283444   \n",
       "570788    0.110660   5.236264   \n",
       "570961    0.116022   5.234045   \n",
       "571790    0.115772   5.222784   \n",
       "572363    0.115610   5.215433   \n",
       "573155    0.115385   5.205286   \n",
       "587069    0.120823   5.022580   \n",
       "\n",
       "                                          antecedent_item  \n",
       "377756                                             Hummus  \n",
       "387837                                             Hummus  \n",
       "416420                           Organic White Pita Bread  \n",
       "419119                           Organic Whole Wheat Pita  \n",
       "422178                        Mini Whole Wheat Pita Bread  \n",
       "440198                                Sea Salt Pita Chips  \n",
       "442099                                             Hummus  \n",
       "463035                  Lentil Chips, Himalayan Pink Salt  \n",
       "463988                       Garbanzo Beans No Salt Added  \n",
       "476420                  Organic Whole Peeled Baby Carrots  \n",
       "506520                        Baba Ghannouge Eggplant Dip  \n",
       "519416  Sonoma Organic Wraps Multigrain Tortillas With...  \n",
       "523791                            Pita Chips Simply Naked  \n",
       "531448                            Honey Whole Wheat Bread  \n",
       "546619                                         White Pita  \n",
       "547477                                Organic Wraps Wheat  \n",
       "550256                                             Hummus  \n",
       "554787               Rice Thins Brown Rice Snack Crackers  \n",
       "567246                                             Dolmas  \n",
       "570788                                             Hummus  \n",
       "570961                                        Wasabi Peas  \n",
       "571790              Organic Unsweetened Soy Milk Beverage  \n",
       "572363                      Traditional Basil Pesto Sauce  \n",
       "573155                            Teriyaki Veggie Burgers  \n",
       "587069                                             Hummus  >"
      ]
     },
     "execution_count": 12,
     "metadata": {},
     "output_type": "execute_result"
    }
   ],
   "source": [
    "# Define df_rules_subset.\n",
    "\n",
    "# Assuming df_rules is already defined and contains the necessary columns\n",
    "\n",
    "df_rules['antecedent_count'] = df_rules['antecedent_items'].apply(lambda x: len(eval(str(x))) if isinstance(x, list) else 0)\n",
    "df_single_antecedent = df_rules[df_rules['antecedent_count'] == 1]\n",
    "\n",
    "# Step 2: Filter for lift between 5 and 20\n",
    "df_lift_filtered = df_single_antecedent[(df_single_antecedent['lift'] >= 5) & (df_single_antecedent['lift'] <= 20)]\n",
    "\n",
    "# Step 3: Filter for rules where either the antecedent or consequent contains 'Hummus', but not both\n",
    "df_lift_filtered['antecedent_item'] = df_lift_filtered['antecedent_items'].apply(lambda x: str(eval(str(x))[0]) if isinstance(x, list) else '')\n",
    "df_lift_filtered['contains_hummus'] = df_lift_filtered['antecedent_item'].str.contains('Hummus', case=False) | df_lift_filtered['consequent_item'].str.contains('Hummus', case=False)\n",
    "\n",
    "df_rules_subset = df_lift_filtered[\n",
    "    ((df_lift_filtered['contains_hummus']) & (df_lift_filtered['antecedent_item'].str.contains('Hummus', case=False) ^ df_lift_filtered['consequent_item'].str.contains('Hummus', case=False)))\n",
    "]\n",
    "\n",
    "# Clean the antecedent_item for visualization\n",
    "df_rules_subset['antecedent_item'] = df_rules_subset['antecedent_item'].replace(to_replace=r'.*Hummus.*', value='Hummus', regex=True)\n",
    "\n",
    "# Drop the 'contains_hummus' temporary column\n",
    "df_rules_subset = df_rules_subset.drop(columns=['contains_hummus'])\n",
    "\n",
    "# Display the resulting subset\n",
    "df_rules_subset.info"
   ]
  },
  {
   "cell_type": "markdown",
   "metadata": {},
   "source": [
    "Build a network `graph_rules_subset` from the association rules subset."
   ]
  },
  {
   "cell_type": "code",
   "execution_count": null,
   "metadata": {},
   "outputs": [],
   "source": [
    "df_rules_subset.info"
   ]
  },
  {
   "cell_type": "code",
   "execution_count": 6,
   "metadata": {},
   "outputs": [
    {
     "data": {
      "image/png": "[encoded data removed]",
      "text/plain": [
       "<Figure size 1500x1000 with 1 Axes>"
      ]
     },
     "metadata": {},
     "output_type": "display_data"
    }
   ],
   "source": [
    "# Define the graph\n",
    "graph_rules_subset = nx.MultiDiGraph()\n",
    "\n",
    "# Add edges from the subset dataframe\n",
    "graph_rules_subset.add_edges_from(\n",
    "    df_rules_subset[['antecedent_items', 'consequent_item']].itertuples(index=False, name=None)\n",
    ")\n",
    "\n",
    "# Set up the figure size\n",
    "plt.figure(figsize=(15, 10))  # Adjust size as needed\n",
    "\n",
    "# Render the graph with specified parameters\n",
    "nx.draw(\n",
    "    graph_rules_subset,\n",
    "    with_labels=True,\n",
    "    node_size=50,  # Smaller node size\n",
    "    font_size=8,   # Smaller font size\n",
    "    arrows=True,\n",
    "    arrowstyle='-|>',\n",
    "    arrowsize=10\n",
    ")\n",
    "\n",
    "# Show the plot\n",
    "plt.title(\"Graph of Association Rules\")\n",
    "plt.show()\n",
    "\n"
   ]
  },
  {
   "cell_type": "markdown",
   "metadata": {},
   "source": [
    "What can you tell about people who buy hummus?"
   ]
  },
  {
   "cell_type": "markdown",
   "metadata": {},
   "source": [
    "*(Write your answer here.)*"
   ]
  },
  {
   "cell_type": "markdown",
   "metadata": {},
   "source": [
    "## Make a Prediction\n",
    "\n",
    "Given that the basket of items contains the following items, use the full set of association rules to predict the next 20 most likely items (consequents) that the person will add to the basket in descending order of lift:\n",
    "\n",
    "* `'Orange Bell Pepper'`\n",
    "* `'Organic Red Bell Pepper'`\n",
    "\n",
    "Hint: a single item in the basket may be a better predictor of some consequents than both items considered together. You must consider both or either, but not neither."
   ]
  },
  {
   "cell_type": "code",
   "execution_count": null,
   "metadata": {},
   "outputs": [],
   "source": [
    "basket = {'Orange Bell Pepper', 'Organic Red Bell Pepper'}\n",
    "\n",
    "df_rules[# A few conditions go here which takes care of all the following cases:\n",
    "         # * Just Orange Bell Pepper\n",
    "         # * Just Organic Red Bell Pepper\n",
    "         # * Both Orange Bell Pepper and Organic Red Bell Pepper\n",
    "         # You can do it using just 2 conditions. :)\n",
    "         ] \\\n",
    "        .sort_values('lift', ascending=False) \\\n",
    "        .head(20)"
   ]
  },
  {
   "cell_type": "markdown",
   "metadata": {},
   "source": [
    "## Bonus: Other Interesting Findings\n",
    "\n",
    "Find and share something else interesting about these association rules. It can be a graph, table, or some other format that illustrates your point."
   ]
  },
  {
   "cell_type": "code",
   "execution_count": null,
   "metadata": {},
   "outputs": [],
   "source": []
  }
 ],
 "metadata": {
  "kernelspec": {
   "display_name": "Python 3",
   "language": "python",
   "name": "python3"
  },
  "language_info": {
   "codemirror_mode": {
    "name": "ipython",
    "version": 3
   },
   "file_extension": ".py",
   "mimetype": "text/x-python",
   "name": "python",
   "nbconvert_exporter": "python",
   "pygments_lexer": "ipython3",
   "version": "3.9.13"
  }
 },
 "nbformat": 4,
 "nbformat_minor": 2
}
